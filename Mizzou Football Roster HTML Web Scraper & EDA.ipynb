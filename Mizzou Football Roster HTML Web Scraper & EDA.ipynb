{
 "cells": [
  {
   "cell_type": "markdown",
   "id": "49684f61",
   "metadata": {},
   "source": [
    "# Mizzou Football Roster: HTML Web Scraper & EDA"
   ]
  },
  {
   "cell_type": "markdown",
   "id": "3f464647",
   "metadata": {},
   "source": [
    "This notebook explores the University of Missouri 2023 football roster (from the [SEC website](https://www.secsports.com/roster/football/missouri-tigers)) using `HTML` and `BeautifulSoup`. "
   ]
  },
  {
   "cell_type": "markdown",
   "id": "cdb8ad2d",
   "metadata": {},
   "source": [
    "<div>\n",
    "<img src=\"Missouri_Tigers_logo.svg.png\" width=\"250\"/>\n",
    "</div>"
   ]
  },
  {
   "cell_type": "code",
   "execution_count": 1,
   "id": "3defec04",
   "metadata": {},
   "outputs": [],
   "source": [
    "# import packages\n",
    "import pandas as pd\n",
    "import numpy as np\n",
    "import requests\n",
    "from bs4 import BeautifulSoup\n",
    "from matplotlib import pyplot as plt\n",
    "\n",
    "import warnings\n",
    "warnings.filterwarnings(\"ignore\")"
   ]
  },
  {
   "cell_type": "markdown",
   "id": "f291a3d6",
   "metadata": {},
   "source": [
    "## Extracting data from HTML table"
   ]
  },
  {
   "cell_type": "code",
   "execution_count": 2,
   "id": "902fc970",
   "metadata": {},
   "outputs": [],
   "source": [
    "# retrieve the HTML\n",
    "url = 'https://www.secsports.com/roster/football/missouri-tigers'\n",
    "page = requests.get(url)"
   ]
  },
  {
   "cell_type": "code",
   "execution_count": 3,
   "id": "8ae2b52d",
   "metadata": {},
   "outputs": [],
   "source": [
    "# find text content for table HTML element\n",
    "table = BeautifulSoup(page.text).find('table')\n",
    "\n",
    "# pull rows from table\n",
    "all_trs =  table.tbody.find_all('tr')\n",
    "\n",
    "# pull headers from table\n",
    "all_ths = table.thead.find_all('th')\n",
    "\n",
    "# return all headers as list\n",
    "cols = [th.text for th in all_ths]\n",
    "\n",
    "# pull data cells from table rows\n",
    "all_tds = [tr.find_all('td') for tr in all_trs]\n",
    "\n",
    "# return all row content from data cells\n",
    "rows = [[td.text for td in row] for row in all_tds]\n",
    "\n",
    "# create df from rows and columns\n",
    "data = pd.DataFrame(data = rows, columns = cols)"
   ]
  },
  {
   "cell_type": "markdown",
   "id": "28286b20",
   "metadata": {},
   "source": [
    "## Data Cleaning & Transformation"
   ]
  },
  {
   "cell_type": "code",
   "execution_count": 4,
   "id": "6084fe8b",
   "metadata": {},
   "outputs": [
    {
     "data": {
      "text/html": [
       "<div>\n",
       "<style scoped>\n",
       "    .dataframe tbody tr th:only-of-type {\n",
       "        vertical-align: middle;\n",
       "    }\n",
       "\n",
       "    .dataframe tbody tr th {\n",
       "        vertical-align: top;\n",
       "    }\n",
       "\n",
       "    .dataframe thead th {\n",
       "        text-align: right;\n",
       "    }\n",
       "</style>\n",
       "<table border=\"1\" class=\"dataframe\">\n",
       "  <thead>\n",
       "    <tr style=\"text-align: right;\">\n",
       "      <th></th>\n",
       "      <th>NO</th>\n",
       "      <th>NAME</th>\n",
       "      <th>POS</th>\n",
       "      <th>HT</th>\n",
       "      <th>WT</th>\n",
       "      <th>CLASS</th>\n",
       "      <th>HOMETOWN</th>\n",
       "    </tr>\n",
       "  </thead>\n",
       "  <tbody>\n",
       "    <tr>\n",
       "      <th>0</th>\n",
       "      <td>#0</td>\n",
       "      <td>BJ Harris</td>\n",
       "      <td>RB</td>\n",
       "      <td>5'-9\"</td>\n",
       "      <td>214</td>\n",
       "      <td>SO</td>\n",
       "      <td>Chattanooga, TN</td>\n",
       "    </tr>\n",
       "    <tr>\n",
       "      <th>1</th>\n",
       "      <td>#0</td>\n",
       "      <td>Jayden Jernigan</td>\n",
       "      <td>DL</td>\n",
       "      <td>6'-0\"</td>\n",
       "      <td>277</td>\n",
       "      <td>JR</td>\n",
       "      <td>Allen, TX</td>\n",
       "    </tr>\n",
       "    <tr>\n",
       "      <th>2</th>\n",
       "      <td>#1</td>\n",
       "      <td>Jaylon Carlies</td>\n",
       "      <td>DB</td>\n",
       "      <td>6'-3\"</td>\n",
       "      <td>219</td>\n",
       "      <td>JR</td>\n",
       "      <td>Orlando, FL</td>\n",
       "    </tr>\n",
       "    <tr>\n",
       "      <th>3</th>\n",
       "      <td>#1</td>\n",
       "      <td>Tauskie Dove</td>\n",
       "      <td>WR</td>\n",
       "      <td>6'-2\"</td>\n",
       "      <td>194</td>\n",
       "      <td>SR</td>\n",
       "      <td>Denton, TX</td>\n",
       "    </tr>\n",
       "    <tr>\n",
       "      <th>4</th>\n",
       "      <td>#2</td>\n",
       "      <td>Chance Luper</td>\n",
       "      <td>WR</td>\n",
       "      <td>6'-2\"</td>\n",
       "      <td>189</td>\n",
       "      <td>SO</td>\n",
       "      <td>Dallas, TX</td>\n",
       "    </tr>\n",
       "  </tbody>\n",
       "</table>\n",
       "</div>"
      ],
      "text/plain": [
       "   NO             NAME POS     HT   WT CLASS         HOMETOWN\n",
       "0  #0        BJ Harris  RB  5'-9\"  214    SO  Chattanooga, TN\n",
       "1  #0  Jayden Jernigan  DL  6'-0\"  277    JR        Allen, TX\n",
       "2  #1   Jaylon Carlies  DB  6'-3\"  219    JR      Orlando, FL\n",
       "3  #1     Tauskie Dove  WR  6'-2\"  194    SR       Denton, TX\n",
       "4  #2     Chance Luper  WR  6'-2\"  189    SO       Dallas, TX"
      ]
     },
     "execution_count": 4,
     "metadata": {},
     "output_type": "execute_result"
    }
   ],
   "source": [
    "# preview data\n",
    "data.head()"
   ]
  },
  {
   "cell_type": "code",
   "execution_count": 5,
   "id": "113a6948",
   "metadata": {},
   "outputs": [],
   "source": [
    "# rename columns\n",
    "data.columns = ['number', 'name', 'position', 'height', 'weight', 'class', 'home']\n",
    "\n",
    "# remove '#' character from number column\n",
    "data['number'] = data['number'].str.replace(r'\\D', '').astype(int)\n",
    "\n",
    "# create seperate columns for home town and state\n",
    "data['home_town'] = data['home'].str.split(',').str[0]\n",
    "data['home_state'] = data['home'].str.split(',').str[1]"
   ]
  },
  {
   "cell_type": "code",
   "execution_count": 6,
   "id": "dab34883",
   "metadata": {},
   "outputs": [],
   "source": [
    "# calculate height in inches\n",
    "\n",
    "# replace '-' will null\n",
    "data = data.replace('-', np.NaN)\n",
    "\n",
    "# seperate feet and inches into seperate temp columns\n",
    "data['height_ft_temp'] = data['height'].str.split('-').str[0].str.replace(\"'\", \"\")\n",
    "data['height_in_temp'] = data['height'].str.split('-').str[-1].str.split('\"').str[0]\n",
    "\n",
    "# calculate height\n",
    "data['height_inch'] = (data['height_ft_temp'].fillna(0).astype(int) * 12) + (data['height_in_temp'].fillna(0).astype(int))\n",
    "\n",
    "# drop temp columns\n",
    "data = data.drop(['height_ft_temp', 'height_in_temp'], axis=1)\n",
    "\n",
    "data['height_inch'] = data['height_inch'].replace(0, np.NaN)"
   ]
  },
  {
   "cell_type": "code",
   "execution_count": 7,
   "id": "7347dfda",
   "metadata": {},
   "outputs": [],
   "source": [
    "# create weight categories\n",
    "\n",
    "data['weight_cat'] = data['weight'].astype(np.float).astype('Int32')\n",
    "\n",
    "data.loc[:, 'weight_cat'] = pd.cut(x = data['weight_cat'], bins = [0, 220, 270, 400]\n",
    "                                           , labels = ['light', 'average', 'heavy'])\n",
    "\n",
    "data['weight_cat'] = data['weight_cat'].cat.reorder_categories(['light', 'average', 'heavy'])"
   ]
  },
  {
   "cell_type": "code",
   "execution_count": 8,
   "id": "e97f823e",
   "metadata": {},
   "outputs": [],
   "source": [
    "# create height categories\n",
    "\n",
    "data['height_cat'] = data['height_inch'].astype(np.float).astype('Int32')\n",
    "\n",
    "data.loc[:, 'height_cat'] = pd.cut(x = data['height_cat'], bins = [0, 66, 69, 90]\n",
    "                                           , labels = ['short', 'average', 'tall'])\n",
    "\n",
    "data['height_cat'] = data['height_cat'].cat.reorder_categories(['short', 'average', 'tall'])"
   ]
  },
  {
   "cell_type": "code",
   "execution_count": 9,
   "id": "2a38c42f",
   "metadata": {},
   "outputs": [],
   "source": [
    "# calculate bmi\n",
    "data['bmi'] = (data['weight'].fillna(0).astype(int) / (data['height_inch'].fillna(0).astype(int) * data['height_inch'].fillna(0).astype(int))) * 703"
   ]
  },
  {
   "cell_type": "markdown",
   "id": "87ab8c6f",
   "metadata": {},
   "source": [
    "## Data Exploration"
   ]
  },
  {
   "cell_type": "code",
   "execution_count": 10,
   "id": "d4cdba44",
   "metadata": {},
   "outputs": [
    {
     "data": {
      "text/plain": [
       "position\n",
       "OL    26\n",
       "DB    21\n",
       "DL    20\n",
       "LB    11\n",
       "RB    11\n",
       "WR    11\n",
       "TE     8\n",
       "QB     6\n",
       "K      4\n",
       "LS     3\n",
       "DE     1\n",
       "P      1\n",
       "Name: name, dtype: int64"
      ]
     },
     "execution_count": 10,
     "metadata": {},
     "output_type": "execute_result"
    }
   ],
   "source": [
    "# count of each position\n",
    "data.groupby('position')['name'].count().sort_values(ascending = False)\n",
    "\n",
    "# there are the players who play offensive line, least are defensive line and punter"
   ]
  },
  {
   "cell_type": "code",
   "execution_count": 11,
   "id": "cc2a4df7",
   "metadata": {},
   "outputs": [
    {
     "data": {
      "text/plain": [
       "class\n",
       "FR    55\n",
       "SR    26\n",
       "JR    21\n",
       "SO    21\n",
       "Name: name, dtype: int64"
      ]
     },
     "execution_count": 11,
     "metadata": {},
     "output_type": "execute_result"
    }
   ],
   "source": [
    "# count of each class\n",
    "data.groupby('class')['name'].count().sort_values(ascending = False)\n",
    "\n",
    "# most platers are freshman, least are juniors and sophmores"
   ]
  },
  {
   "cell_type": "code",
   "execution_count": 12,
   "id": "be744bc0",
   "metadata": {},
   "outputs": [
    {
     "data": {
      "text/plain": [
       "home_state\n",
       " MO    41\n",
       " TX    12\n",
       " GA    10\n",
       " FL     7\n",
       " TN     5\n",
       " IL     5\n",
       " NC     4\n",
       " KS     3\n",
       " LA     3\n",
       " AL     3\n",
       " IN     3\n",
       " CA     3\n",
       " MI     3\n",
       " AR     2\n",
       " MS     2\n",
       " OH     2\n",
       " OK     2\n",
       " AZ     2\n",
       " ID     1\n",
       " CO     1\n",
       " NE     1\n",
       " NJ     1\n",
       " PA     1\n",
       " SC     1\n",
       "Name: name, dtype: int64"
      ]
     },
     "execution_count": 12,
     "metadata": {},
     "output_type": "execute_result"
    }
   ],
   "source": [
    "# count of players by state\n",
    "data.groupby('home_state')['name'].count().sort_values(ascending = False)\n",
    "\n",
    "# most players are from Missouri, not surprising"
   ]
  },
  {
   "cell_type": "code",
   "execution_count": 13,
   "id": "75221795",
   "metadata": {},
   "outputs": [
    {
     "data": {
      "text/plain": [
       "home_state  home_town    \n",
       " MO         Saint Louis      15\n",
       "            Columbia          6\n",
       " TX         Dallas            4\n",
       " MO         Lee's Summit      4\n",
       " KS         Overland Park     3\n",
       " TX         Allen             3\n",
       " GA         Atlanta           3\n",
       " TX         Houston           2\n",
       " IL         Chicago           2\n",
       " TN         Memphis           2\n",
       " IN         Indianapolis      2\n",
       " MI         Detroit           2\n",
       " FL         Orlando           2\n",
       " MO         Weldon Spring     1\n",
       "            Washington        1\n",
       "Name: name, dtype: int64"
      ]
     },
     "execution_count": 13,
     "metadata": {},
     "output_type": "execute_result"
    }
   ],
   "source": [
    "# count of players by home state and city\n",
    "data.groupby(['home_state', 'home_town'])['name'].count().sort_values(ascending = False).head(15)"
   ]
  },
  {
   "cell_type": "code",
   "execution_count": 14,
   "id": "a6a5c3c4",
   "metadata": {},
   "outputs": [
    {
     "name": "stdout",
     "output_type": "stream",
     "text": [
      "40.65%\n"
     ]
    }
   ],
   "source": [
    "# percentage of players with another player from hometown\n",
    "print(round(data.groupby(['home'])['name'].count().sort_values().loc[lambda x : x>1].sum() / data['name'].count() * 100, 2), '%', sep='')"
   ]
  },
  {
   "cell_type": "code",
   "execution_count": 15,
   "id": "fddbe549",
   "metadata": {},
   "outputs": [
    {
     "data": {
      "text/plain": [
       "light      51\n",
       "heavy      36\n",
       "average    31\n",
       "Name: weight_cat, dtype: int64"
      ]
     },
     "execution_count": 15,
     "metadata": {},
     "output_type": "execute_result"
    }
   ],
   "source": [
    "# count per weight classes\n",
    "data['weight_cat'].value_counts()\n",
    "\n",
    "# most players fall into the light weight class (less than 220 lbs)"
   ]
  },
  {
   "cell_type": "code",
   "execution_count": 16,
   "id": "99747423",
   "metadata": {},
   "outputs": [
    {
     "data": {
      "text/plain": [
       "tall       107\n",
       "average     11\n",
       "short        0\n",
       "Name: height_cat, dtype: int64"
      ]
     },
     "execution_count": 16,
     "metadata": {},
     "output_type": "execute_result"
    }
   ],
   "source": [
    "# count per height class\n",
    "data['height_cat'].value_counts()\n",
    "\n",
    "# most players are in the tall height class (70 inches and above)"
   ]
  },
  {
   "cell_type": "markdown",
   "id": "02e6a2ff",
   "metadata": {},
   "source": [
    "## Data Visualization"
   ]
  },
  {
   "cell_type": "code",
   "execution_count": 17,
   "id": "4d7d99d7",
   "metadata": {},
   "outputs": [
    {
     "data": {
      "image/png": "[encoded data removed]",
      "text/plain": [
       "<Figure size 720x432 with 1 Axes>"
      ]
     },
     "metadata": {
      "needs_background": "light"
     },
     "output_type": "display_data"
    }
   ],
   "source": [
    "# BMI by number of players histogram\n",
    "plt.figure(figsize=(10,6))\n",
    "plt.hist(data['bmi'], bins = 15, color = '#F1B82D', edgecolor = 'dimgrey')\n",
    "plt.suptitle('Mizzou Football 2023: Number of Players by BMI', fontsize = 20)\n",
    "plt.xlabel(\"BMI\", fontsize = 15)\n",
    "plt.ylabel(\"Number of Players\", fontsize = 15)\n",
    "\n",
    "plt.show()"
   ]
  },
  {
   "cell_type": "code",
   "execution_count": 18,
   "id": "cef58119",
   "metadata": {},
   "outputs": [
    {
     "data": {
      "image/png": "[encoded data removed]",
      "text/plain": [
       "<Figure size 1224x432 with 1 Axes>"
      ]
     },
     "metadata": {
      "needs_background": "light"
     },
     "output_type": "display_data"
    }
   ],
   "source": [
    "# height by weight scatter plot\n",
    "\n",
    "#temporary df to prevent error\n",
    "data_temp = data[data['weight'].notnull() | data['height_inch'].notnull()].sort_values(by = 'weight')\n",
    "\n",
    "plt.figure(figsize=(17,6))\n",
    "plt.scatter(data_temp['weight'], data_temp['height_inch'], color = '#F1B82D')\n",
    "plt.suptitle('Mizzou Football 2023: Players Height by Weight', fontsize = 20)\n",
    "plt.xticks(rotation = 90)\n",
    "plt.xlabel(\"Weight (lbs)\", fontsize = 15)\n",
    "plt.ylabel(\"Height (in)\", fontsize = 15)\n",
    "\n",
    "plt.show()"
   ]
  },
  {
   "cell_type": "code",
   "execution_count": 19,
   "id": "dbeaa0d9",
   "metadata": {},
   "outputs": [
    {
     "data": {
      "image/png": "[encoded data removed]",
      "text/plain": [
       "<Figure size 1008x432 with 1 Axes>"
      ]
     },
     "metadata": {
      "needs_background": "light"
     },
     "output_type": "display_data"
    }
   ],
   "source": [
    "data_temp = data_temp[data_temp['weight'].notnull()]\n",
    "\n",
    "state_count = data_temp.groupby('home_state')['name'].count().sort_values(ascending = False).sort_index()\n",
    "\n",
    "state_count.plot.bar(figsize = (14,6), color = '#F1B82D', edgecolor = 'dimgrey')\n",
    "plt.suptitle('Mizzou Football 2023: Number of Players by State', fontsize = 20)\n",
    "plt.xlabel(\"State\", fontsize = 15)\n",
    "plt.ylabel(\"Number of Players\", fontsize = 15)\n",
    "\n",
    "plt.show()"
   ]
  }
 ],
 "metadata": {
  "kernelspec": {
   "display_name": "Python 3 (ipykernel)",
   "language": "python",
   "name": "python3"
  },
  "language_info": {
   "codemirror_mode": {
    "name": "ipython",
    "version": 3
   },
   "file_extension": ".py",
   "mimetype": "text/x-python",
   "name": "python",
   "nbconvert_exporter": "python",
   "pygments_lexer": "ipython3",
   "version": "3.9.12"
  }
 },
 "nbformat": 4,
 "nbformat_minor": 5
}
